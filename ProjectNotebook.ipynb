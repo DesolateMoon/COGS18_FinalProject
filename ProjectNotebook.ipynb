{
 "cells": [
  {
   "cell_type": "markdown",
   "metadata": {},
   "source": [
    "# Project Description"
   ]
  },
  {
   "cell_type": "markdown",
   "metadata": {},
   "source": [
    "For my COGS 18 Final project, I wanted to extend our application from assignment two. Therefore, I would create a Vigenere Cipher to demonstrate my control of Python and what I have learned throughout the quarter. I will first begin by explaining what a Vigenere Cipher is. The Vigenere Cipher is a series of interwoven Caesear Ciphers employing a form of polyalphabetic substitution. We encrypt the alphabet by cyclically shifting left for each letter which corresponds to the possible 26 individual Caesear Ciphers. The keyword is then utilized to correspond to the needed offset. \n",
    "\n",
    "In this project, I implemented 5 different modules: decryption.py, encryption.py, error_check.py, interpreter.py, and test_functions.py. Interpreter.py is the main function call allowing the user to interact with the JupyterNotebook by wrapping encryption.py, decryption.py, and error_check.py. Test_functions.py contains a series of test suites to assert that encryption.py and decryption.py are working properly. \n",
    "\n",
    "The JupyterNotebook has included some examples of the functionalilty working with some error handling."
   ]
  },
  {
   "cell_type": "markdown",
   "metadata": {},
   "source": [
    "## Project Code"
   ]
  },
  {
   "cell_type": "code",
   "execution_count": 1,
   "metadata": {
    "scrolled": true
   },
   "outputs": [],
   "source": [
    "from my_module.interpreter import main\n",
    "from my_module.test_functions import test_encrypt, test_decrypt, test_input_error"
   ]
  },
  {
   "cell_type": "markdown",
   "metadata": {},
   "source": [
    "### Encryption with Error Handling"
   ]
  },
  {
   "cell_type": "code",
   "execution_count": 2,
   "metadata": {},
   "outputs": [
    {
     "name": "stdout",
     "output_type": "stream",
     "text": [
      "Key and Message can only be alphabetic \n",
      "\n",
      "1. Encryption\n",
      "2. Decryption\n",
      "3. Quit\n",
      "Choose (1, 2, 3) : \t4\n",
      "Invalid input...\n",
      "\n",
      "\n",
      "1. Encryption\n",
      "2. Decryption\n",
      "3. Quit\n",
      "Choose (1, 2, 3) : \t1\n",
      "\n",
      "---Encryption---\n",
      "Enter message: \t\tA123\n",
      "Enter key: \t\tB456\n",
      "Please input alphabetic string for message: \t\tC789\n",
      "Please input alphabetic non-space string for key: \tBAR\n",
      "Please input alphabetic string for message: \t\tTHIS IS FOO\n",
      "Encrypted message:\t UHZT ZT WPO\n",
      "\n",
      "\n",
      "1. Encryption\n",
      "2. Decryption\n",
      "3. Quit\n",
      "Choose (1, 2, 3) : \t1\n",
      "\n",
      "---Encryption---\n",
      "Enter message: \t\tI LOVE COGSCI\n",
      "Enter key: \t\tPYTHON\n",
      "Encrypted message:\t X EVJR AHNGPX\n",
      "\n",
      "\n",
      "1. Encryption\n",
      "2. Decryption\n",
      "3. Quit\n",
      "Choose (1, 2, 3) : \t3\n",
      "\n",
      "--Quit---\n",
      "Exiting program\n"
     ]
    }
   ],
   "source": [
    "main()"
   ]
  },
  {
   "cell_type": "markdown",
   "metadata": {},
   "source": [
    "### Decryption with Error Handling"
   ]
  },
  {
   "cell_type": "code",
   "execution_count": 3,
   "metadata": {},
   "outputs": [
    {
     "name": "stdout",
     "output_type": "stream",
     "text": [
      "Key and Message can only be alphabetic \n",
      "\n",
      "1. Encryption\n",
      "2. Decryption\n",
      "3. Quit\n",
      "Choose (1, 2, 3) : \t4\n",
      "Invalid input...\n",
      "\n",
      "\n",
      "1. Encryption\n",
      "2. Decryption\n",
      "3. Quit\n",
      "Choose (1, 2, 3) : \t2\n",
      "\n",
      "---Decryption---\n",
      "Enter message: \t\tA123\n",
      "Enter key: \t\tB456\n",
      "Please input alphabetic string for message: \t\tUHZT ZT WPO\n",
      "Please input alphabetic non-space string for key: \tC789\n",
      "Please input alphabetic non-space string for key: \tBAR\n",
      "Encrypted message:\t THIS IS FOO\n",
      "\n",
      "\n",
      "1. Encryption\n",
      "2. Decryption\n",
      "3. Quit\n",
      "Choose (1, 2, 3) : \t2\n",
      "\n",
      "---Decryption---\n",
      "Enter message: \t\tX EVJR AHNGPX\n",
      "Enter key: \t\tPYTHON\n",
      "Encrypted message:\t I LOVE COGSCI\n",
      "\n",
      "\n",
      "1. Encryption\n",
      "2. Decryption\n",
      "3. Quit\n",
      "Choose (1, 2, 3) : \t3\n",
      "\n",
      "--Quit---\n",
      "Exiting program\n"
     ]
    }
   ],
   "source": [
    "main()"
   ]
  },
  {
   "cell_type": "markdown",
   "metadata": {},
   "source": [
    "### Test Suite"
   ]
  },
  {
   "cell_type": "code",
   "execution_count": 4,
   "metadata": {},
   "outputs": [
    {
     "name": "stdout",
     "output_type": "stream",
     "text": [
      "Assertions passed for encrypt: 6/6\n",
      "Assertions passed for decrypt: 6/6\n",
      "Assertions passed for input_error: 4/4\n"
     ]
    }
   ],
   "source": [
    "test_encrypt()\n",
    "test_decrypt()\n",
    "test_input_error()"
   ]
  },
  {
   "cell_type": "markdown",
   "metadata": {},
   "source": [
    "#### Extra Credit (*optional*)\n",
    "\n",
    "Github Repo: https://github.com/DesolateMoon/COGS18_FinalProject.git"
   ]
  },
  {
   "cell_type": "code",
   "execution_count": null,
   "metadata": {},
   "outputs": [],
   "source": []
  }
 ],
 "metadata": {
  "kernelspec": {
   "display_name": "Python 3",
   "language": "python",
   "name": "python3"
  },
  "language_info": {
   "codemirror_mode": {
    "name": "ipython",
    "version": 3
   },
   "file_extension": ".py",
   "mimetype": "text/x-python",
   "name": "python",
   "nbconvert_exporter": "python",
   "pygments_lexer": "ipython3",
   "version": "3.7.6"
  }
 },
 "nbformat": 4,
 "nbformat_minor": 2
}
